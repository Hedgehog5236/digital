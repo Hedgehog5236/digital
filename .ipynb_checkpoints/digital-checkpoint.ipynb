{
 "cells": [
  {
   "cell_type": "code",
   "execution_count": 4,
   "metadata": {
    "scrolled": false
   },
   "outputs": [
    {
     "name": "stdout",
     "output_type": "stream",
     "text": [
      "[62.04463189738722, 63.231518651680446, 77.9827542792035, 78.11169394483692]\n"
     ]
    },
    {
     "data": {
      "image/png": "[encoded data removed]",
      "text/plain": [
       "<Figure size 432x288 with 1 Axes>"
      ]
     },
     "metadata": {
      "needs_background": "light"
     },
     "output_type": "display_data"
    }
   ],
   "source": [
    "import numpy as np\n",
    "import cv2\n",
    "import os\n",
    "from PIL import Image\n",
    "import matplotlib.pyplot as plt\n",
    "\n",
    "ave=[]\n",
    "j=0\n",
    "\n",
    "cap = cv2.VideoCapture('digital.mp4')   #動画ファイル読込準備\n",
    "\n",
    "dir_name = \"screen_caps\"\n",
    "if not os.path.exists(dir_name):\n",
    "    os.mkdir(dir_name)\n",
    "\n",
    "frame_count = int(cap.get(7))\n",
    "for i in range(frame_count):\n",
    "    ret, frame = cap.read()   #動画ファイルのframe読込\n",
    "    cv2.imwrite(dir_name+ \"/\" + str(i) + \".png\", frame)\n",
    "    gray = cv2.imread('screen_caps/{}.png'.format(i), 0)  #frameをgray画像に変換\n",
    "    ave = np.append(ave, np.mean(gray))\n",
    "    plt.plot(np.arange(i+1), ave)\n",
    "    plt.xlabel('Number of frame')\n",
    "    plt.ylabel('Average of luminance value')\n",
    "    plt.xlim(0, frame_count)\n",
    "    plt.ylim(65, 75)\n",
    "    im=\"im{}.png\".format(i)\n",
    "    plt.savefig(im)\n",
    "    plt.clf()\n",
    "plt.plot(np.arange(frame_count), ave)"
   ]
  }
 ],
 "metadata": {
  "kernelspec": {
   "display_name": "Python 3",
   "language": "python",
   "name": "python3"
  },
  "language_info": {
   "codemirror_mode": {
    "name": "ipython",
    "version": 3
   },
   "file_extension": ".py",
   "mimetype": "text/x-python",
   "name": "python",
   "nbconvert_exporter": "python",
   "pygments_lexer": "ipython3",
   "version": "3.7.3"
  }
 },
 "nbformat": 4,
 "nbformat_minor": 2
}
